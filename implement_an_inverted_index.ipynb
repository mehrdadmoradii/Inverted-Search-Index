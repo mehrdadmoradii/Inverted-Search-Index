{
  "nbformat": 4,
  "nbformat_minor": 0,
  "metadata": {
    "colab": {
      "name": "implement_an_inverted_index.ipynb",
      "provenance": []
    },
    "kernelspec": {
      "name": "python3",
      "display_name": "Python 3"
    },
    "language_info": {
      "name": "python"
    }
  },
  "cells": [
    {
      "cell_type": "code",
      "execution_count": 1,
      "metadata": {
        "id": "6POtSg_g2b9D"
      },
      "outputs": [],
      "source": [
        "import spacy\n",
        "import numpy as np"
      ]
    },
    {
      "cell_type": "code",
      "source": [
        "!python3 -m spacy download en_core_web_lg"
      ],
      "metadata": {
        "id": "U3FkkLeR2sGE"
      },
      "execution_count": null,
      "outputs": []
    },
    {
      "cell_type": "code",
      "source": [
        "nlp = spacy.load('en_core_web_sm')"
      ],
      "metadata": {
        "id": "rWcM5vmQ23oe"
      },
      "execution_count": 3,
      "outputs": []
    },
    {
      "cell_type": "code",
      "source": [
        "import json\n",
        "import os\n",
        "\n",
        "path = os.path.join('.', 'tf_idf_dataset.json')\n",
        "with open(path) as f:\n",
        "  dataset = json.load(f)"
      ],
      "metadata": {
        "id": "SzsJbK1g2-Nv"
      },
      "execution_count": 5,
      "outputs": []
    },
    {
      "cell_type": "code",
      "source": [
        "tokens = [doc['tokenized_text'] for doc in dataset]\n",
        "\n",
        "lexicon = list()\n",
        "\n",
        "for x in tokens:\n",
        "  lexicon.extend(x)\n",
        "\n",
        "lexicon = list(set(lexicon))\n",
        "lexicon = sorted(lexicon)"
      ],
      "metadata": {
        "id": "8uCynwUH3QUC"
      },
      "execution_count": 20,
      "outputs": []
    },
    {
      "cell_type": "code",
      "source": [
        "def term_to_index(term):\n",
        "  try:\n",
        "    return lexicon.index(term)\n",
        "  except ValueError:\n",
        "    return -1\n",
        "\n",
        "def index_to_term(index):\n",
        "  return lexicon[index]"
      ],
      "metadata": {
        "id": "vZ2o1MHg4qoI"
      },
      "execution_count": 22,
      "outputs": []
    },
    {
      "cell_type": "markdown",
      "source": [
        "<h1>Building the inverted index</h1>"
      ],
      "metadata": {
        "id": "NaR_kzDs5ITh"
      }
    },
    {
      "cell_type": "code",
      "source": [
        "index = dict()"
      ],
      "metadata": {
        "id": "w-bJOeKH5MTd"
      },
      "execution_count": 25,
      "outputs": []
    },
    {
      "cell_type": "code",
      "source": [
        "for term in lexicon:\n",
        "  index.update({term: list()})\n",
        "  term_index = term_to_index(term)\n",
        "  for doc in dataset:\n",
        "    title = doc['title']\n",
        "    tf_idf_vec = doc['tf_idf']\n",
        "    tf_idf = tf_idf_vec[term_index]\n",
        "    if tf_idf == 0:\n",
        "      continue\n",
        "    index[term].append((title, tf_idf))"
      ],
      "metadata": {
        "id": "RGl05xEF5gLu"
      },
      "execution_count": 26,
      "outputs": []
    },
    {
      "cell_type": "code",
      "source": [
        "from spacy.tokens.token import Token\n",
        "\n",
        "def is_stop_word(token: Token):\n",
        "  return token.is_stop\n",
        "\n",
        "def is_punc_or_sym(token: Token):\n",
        "  part_of_speach = token.pos_\n",
        "  return (part_of_speach == 'PUNCT' or \n",
        "          part_of_speach == 'SYM')\n",
        "  \n",
        "def is_punc_or_sym_or_stop(token: Token):\n",
        "  return is_stop_word(token) or is_punc_or_sym(token)\n",
        "\n",
        "def tokenize_text(input_string: str):\n",
        "  spacy_doc = nlp(input_string)\n",
        "  transformed = [token.lemma_ for token in spacy_doc \n",
        "                 if not is_punc_or_sym_or_stop(token)]\n",
        "  transformed = [lemma.lower() for lemma in transformed]\n",
        "  return transformed"
      ],
      "metadata": {
        "id": "PoqWVfPl7MDO"
      },
      "execution_count": 37,
      "outputs": []
    },
    {
      "cell_type": "code",
      "source": [
        "from collections import defaultdict\n",
        "\n",
        "def search(text):\n",
        "  tokenized_text = tokenize_text(text)\n",
        "  result = list()\n",
        "\n",
        "  for token in tokenized_text:\n",
        "    result.extend(index.get(token, list()))\n",
        "\n",
        "  dd = defaultdict(float)\n",
        "\n",
        "  for title, score in result:\n",
        "    dd[title] += score\n",
        "\n",
        "  result = ((k, v) for k, v in dd.items())\n",
        "      \n",
        "  return sorted(result, key=lambda x: x[1], reverse=True)"
      ],
      "metadata": {
        "id": "yjzshhWs8kTZ"
      },
      "execution_count": 77,
      "outputs": []
    },
    {
      "cell_type": "code",
      "source": [
        "search('symptoms of swine flu')"
      ],
      "metadata": {
        "colab": {
          "base_uri": "https://localhost:8080/"
        },
        "id": "GGCJQEo89DoU",
        "outputId": "1722c8da-db84-4ce6-b72a-c31469f3b63f"
      },
      "execution_count": 79,
      "outputs": [
        {
          "output_type": "execute_result",
          "data": {
            "text/plain": [
              "[('Swine influenza', 0.25686456251576006),\n",
              " ('Spanish flu', 0.06863563392473176),\n",
              " ('Cholera', 0.023204159217788324),\n",
              " ('HIV/AIDS', 0.021681106296157427),\n",
              " ('Pandemic', 0.02127047928297263),\n",
              " ('Unified Victim Identification System', 0.012478681179343943),\n",
              " ('COVID-19 pandemic', 0.010882570795939484)]"
            ]
          },
          "metadata": {},
          "execution_count": 79
        }
      ]
    },
    {
      "cell_type": "code",
      "source": [
        "test_queries = [\n",
        "  \"black death\", \n",
        "  \"zoonotic diseases\", \n",
        "  \"swine flu\", \n",
        "  \"cholera transmission\", \n",
        "  \"classification of viruses\", \n",
        "  \"economic impact of pandemics\", \n",
        "  \"pandemic prevention organizations\", \n",
        "  \"spread of infectious diseases\", \n",
        "  \"prevention of viral infections\", \n",
        "  \"common symptoms of coronavirus\"\n",
        "]"
      ],
      "metadata": {
        "id": "_t_hMjtrDB9U"
      },
      "execution_count": 70,
      "outputs": []
    },
    {
      "cell_type": "code",
      "source": [
        "for query in test_queries:\n",
        "  print(f'query: {query}\\n')\n",
        "  for result in search(query):\n",
        "    print(f'{result[0]}, score: {result[1]}')\n",
        "  print('\\n\\n')"
      ],
      "metadata": {
        "colab": {
          "base_uri": "https://localhost:8080/"
        },
        "id": "f-vbvrerEzpc",
        "outputId": "727ce0e8-6f38-485a-deb6-3803ec64d111"
      },
      "execution_count": 81,
      "outputs": [
        {
          "output_type": "stream",
          "name": "stdout",
          "text": [
            "query: black death\n",
            "\n",
            "Pandemic, score: 0.04679883867323402\n",
            "Cholera, score: 0.014218202730960522\n",
            "Antonine Plague, score: 0.012935357371776113\n",
            "Epidemiology of HIV/AIDS, score: 0.011507709233754\n",
            "Bills of mortality, score: 0.008777563930848076\n",
            "Spanish flu, score: 0.008559216569384194\n",
            "1929–1930 psittacosis pandemic, score: 0.008077007185193536\n",
            "Pandemic Severity Assessment Framework, score: 0.007891754726817538\n",
            "HIV/AIDS, score: 0.00664248081253368\n",
            "COVID-19 pandemic, score: 0.0050011701466459975\n",
            "Swine influenza, score: 0.0045273750801216395\n",
            "\n",
            "\n",
            "\n",
            "query: zoonotic diseases\n",
            "\n",
            "Swine influenza, score: 0.03429575303180508\n",
            "Disease X, score: 0.02311941979912861\n",
            "Pandemic, score: 0.0220685370809864\n",
            "Pandemic prevention, score: 0.013486328216158356\n",
            "HIV/AIDS, score: 0.013121832858964889\n",
            "Targeted immunization strategies, score: 0.0105545177343848\n",
            "Science diplomacy and pandemics, score: 0.010221217174351597\n",
            "HIV/AIDS in Yunnan, score: 0.008443614187507841\n",
            "Cholera, score: 0.008024922574904145\n",
            "Antonine Plague, score: 0.00730086941025114\n",
            "Superspreader, score: 0.006145668554198744\n",
            "COVID-19 pandemic, score: 0.00564543971839187\n",
            "1929–1930 psittacosis pandemic, score: 0.004558758833630994\n",
            "Pandemic Severity Assessment Framework, score: 0.0044542001447862465\n",
            "Basic reproduction number, score: 0.0044406202662960435\n",
            "Epidemiology of HIV/AIDS, score: 0.0016237719591361232\n",
            "Virus, score: 0.0015511431814111847\n",
            "\n",
            "\n",
            "\n",
            "query: swine flu\n",
            "\n",
            "Swine influenza, score: 0.24701297211101483\n",
            "Spanish flu, score: 0.06863563392473176\n",
            "Pandemic, score: 0.02127047928297263\n",
            "Unified Victim Identification System, score: 0.012478681179343943\n",
            "\n",
            "\n",
            "\n",
            "query: cholera transmission\n",
            "\n",
            "Cholera, score: 0.13463208834799514\n",
            "Superspreader, score: 0.03712245743780827\n",
            "Swine influenza, score: 0.03087025407986162\n",
            "HIV/AIDS in Yunnan, score: 0.012750757119942844\n",
            "1929–1930 psittacosis pandemic, score: 0.006884211590579469\n",
            "Virus, score: 0.0046847829673911405\n",
            "Basic reproduction number, score: 0.0044705398438824\n",
            "\n",
            "\n",
            "\n",
            "query: classification of viruses\n",
            "\n",
            "Pandemic severity index, score: 0.10509988832327362\n",
            "Virus, score: 0.06870617134369901\n",
            "Crimson Contagion, score: 0.03351433500869266\n",
            "Viral load, score: 0.03334113431097332\n",
            "Disease X, score: 0.03072147375796827\n",
            "Swine influenza, score: 0.02716425048072984\n",
            "HIV/AIDS in Yunnan, score: 0.0224400330058203\n",
            "Plague of Cyprian, score: 0.01592965305968725\n",
            "HIV/AIDS, score: 0.01328496162506736\n",
            "Spanish flu, score: 0.012838824854076293\n",
            "Epidemiology of HIV/AIDS, score: 0.005753854616877\n",
            "COVID-19 pandemic, score: 0.0050011701466459975\n",
            "\n",
            "\n",
            "\n",
            "query: economic impact of pandemics\n",
            "\n",
            "Pandemic prevention, score: 0.08261617660435726\n",
            "Pandemic Severity Assessment Framework, score: 0.050995869734637614\n",
            "Pandemic, score: 0.03379752679269161\n",
            "HIV/AIDS, score: 0.0282193090738747\n",
            "Pandemic severity index, score: 0.027411818965501027\n",
            "COVID-19 pandemic, score: 0.024793500775131396\n",
            "PREDICT (USAID), score: 0.02023253304596504\n",
            "Spanish flu, score: 0.019024620625310414\n",
            "Crimson Contagion, score: 0.016553890673971398\n",
            "1929–1930 psittacosis pandemic, score: 0.016122694043423334\n",
            "Plague of Cyprian, score: 0.015736414591306144\n",
            "Swine influenza, score: 0.006708682009977883\n",
            "Antonine Plague, score: 0.006389220961883698\n",
            "Science diplomacy and pandemics, score: 0.004472454673318588\n",
            "Epidemiology of HIV/AIDS, score: 0.0028420280532793704\n",
            "Unified Victim Identification System, score: 0.002832554626435106\n",
            "Cholera, score: 0.0017557156775424212\n",
            "\n",
            "\n",
            "\n",
            "query: pandemic prevention organizations\n",
            "\n",
            "Pandemic prevention, score: 0.21493990771458477\n",
            "Pandemic Severity Assessment Framework, score: 0.04630939612210559\n",
            "Event 201, score: 0.04582303339979459\n",
            "Crimson Contagion, score: 0.03559722922973019\n",
            "Pandemic, score: 0.03379752679269161\n",
            "Pandemic severity index, score: 0.027411818965501027\n",
            "HIV/AIDS, score: 0.02073690760898614\n",
            "PREDICT (USAID), score: 0.02023253304596504\n",
            "Science diplomacy and pandemics, score: 0.019907581713249398\n",
            "Spanish flu, score: 0.019024620625310414\n",
            "Disease X, score: 0.017456393676112226\n",
            "Plague of Cyprian, score: 0.015736414591306144\n",
            "Swine influenza, score: 0.014426245529943288\n",
            "HIV/AIDS in Yunnan, score: 0.014336161961629406\n",
            "COVID-19 pandemic, score: 0.009881004510820137\n",
            "Cholera, score: 0.00856835462625061\n",
            "Antonine Plague, score: 0.006389220961883698\n",
            "1929–1930 psittacosis pandemic, score: 0.005984270337538957\n",
            "Epidemiology of HIV/AIDS, score: 0.0028420280532793704\n",
            "Unified Victim Identification System, score: 0.002832554626435106\n",
            "\n",
            "\n",
            "\n",
            "query: spread of infectious diseases\n",
            "\n",
            "Pandemic, score: 0.058281487072346067\n",
            "Pandemic prevention, score: 0.05421791346042021\n",
            "Disease X, score: 0.040575813475240835\n",
            "Targeted immunization strategies, score: 0.029254545239235055\n",
            "HIV/AIDS in Yunnan, score: 0.023403636191388043\n",
            "Viral load, score: 0.022733908043308944\n",
            "HIV/AIDS, score: 0.01976431367149857\n",
            "Basic reproduction number, score: 0.019401419442167608\n",
            "Virus, score: 0.016417202823689386\n",
            "Antonine Plague, score: 0.013768548096139196\n",
            "Pandemic Severity Assessment Framework, score: 0.012345954871603785\n",
            "Cholera, score: 0.011579473257644276\n",
            "Crimson Contagion, score: 0.011171445002897554\n",
            "Science diplomacy and pandemics, score: 0.010221217174351597\n",
            "1929–1930 psittacosis pandemic, score: 0.008597262426227763\n",
            "Superspreader, score: 0.006145668554198744\n",
            "COVID-19 pandemic, score: 0.00564543971839187\n",
            "Epidemiology of HIV/AIDS, score: 0.0016237719591361232\n",
            "\n",
            "\n",
            "\n",
            "query: prevention of viral infections\n",
            "\n",
            "Viral load, score: 0.18848547051629339\n",
            "Pandemic prevention, score: 0.09159214586596565\n",
            "HIV/AIDS, score: 0.04596403425043814\n",
            "Superspreader, score: 0.03813565626911886\n",
            "Virus, score: 0.031090408039428488\n",
            "Pandemic Severity Assessment Framework, score: 0.02857794215028265\n",
            "Plague of Cyprian, score: 0.027154390162841237\n",
            "HIV/AIDS in Yunnan, score: 0.021059552294094466\n",
            "Basic reproduction number, score: 0.018858289956914187\n",
            "Spanish flu, score: 0.011141925159337852\n",
            "Epidemiology of HIV/AIDS, score: 0.010343677434561627\n",
            "Cholera, score: 0.010007638486863072\n",
            "Science diplomacy and pandemics, score: 0.008138840928773492\n",
            "Swine influenza, score: 0.008138840928773492\n",
            "COVID-19 pandemic, score: 0.004495290047869079\n",
            "\n",
            "\n",
            "\n",
            "query: common symptoms of coronavirus\n",
            "\n",
            "COVID-19 pandemic, score: 0.07623505151022944\n",
            "Cholera, score: 0.029263403303711577\n",
            "HIV/AIDS, score: 0.02734263938030193\n",
            "Swine influenza, score: 0.025286717444676025\n",
            "HIV/AIDS in Yunnan, score: 0.012750757119942844\n",
            "Virus, score: 0.0046847829673911405\n",
            "\n",
            "\n",
            "\n"
          ]
        }
      ]
    },
    {
      "cell_type": "code",
      "source": [
        "from collections import defaultdict\n",
        "\n",
        "dd = defaultdict(float)\n",
        "\n",
        "my_dic = [\n",
        "  ('a', 22),\n",
        "  ('a', 28),\n",
        "  ('b', 32),\n",
        "  ('b', 28),\n",
        "  ('c', 32),\n",
        "  ('c', 38),\n",
        "]\n",
        "\n",
        "for a, b in my_dic:\n",
        "  dd[a] += b\n",
        "\n",
        "print(dd)"
      ],
      "metadata": {
        "colab": {
          "base_uri": "https://localhost:8080/"
        },
        "id": "V8HRUerrJkPx",
        "outputId": "d34afe58-7bc5-4f6b-9146-0e7f1a327234"
      },
      "execution_count": 76,
      "outputs": [
        {
          "output_type": "stream",
          "name": "stdout",
          "text": [
            "defaultdict(<class 'float'>, {'a': 50.0, 'b': 60.0, 'c': 70.0})\n"
          ]
        }
      ]
    }
  ]
}