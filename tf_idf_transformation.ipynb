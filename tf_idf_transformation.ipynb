{
  "nbformat": 4,
  "nbformat_minor": 0,
  "metadata": {
    "colab": {
      "name": "tf_idf_transformation.ipynb",
      "provenance": [],
      "collapsed_sections": []
    },
    "kernelspec": {
      "name": "python3",
      "display_name": "Python 3"
    },
    "language_info": {
      "name": "python"
    },
    "gpuClass": "standard",
    "accelerator": "GPU"
  },
  "cells": [
    {
      "cell_type": "code",
      "execution_count": 1,
      "metadata": {
        "id": "wNvgUwVPBKnx"
      },
      "outputs": [],
      "source": [
        "import spacy\n",
        "import numpy as np"
      ]
    },
    {
      "cell_type": "code",
      "source": [
        "!python3 -m spacy download en_core_web_lg\n",
        "nlp = spacy.load(\"en_core_web_lg\")"
      ],
      "metadata": {
        "id": "Sb7e-nc8BPTP"
      },
      "execution_count": null,
      "outputs": []
    },
    {
      "cell_type": "code",
      "source": [
        "import os\n",
        "\n",
        "file_name = 'transformed_data.json'\n",
        "path = os.path.join('.', file_name)"
      ],
      "metadata": {
        "id": "0oYtlruWBalP"
      },
      "execution_count": 3,
      "outputs": []
    },
    {
      "cell_type": "code",
      "source": [
        "import json\n",
        "\n",
        "with open(path) as f:\n",
        "  dataset = json.load(f)"
      ],
      "metadata": {
        "id": "9ciW4-uhCn9Z"
      },
      "execution_count": 4,
      "outputs": []
    },
    {
      "cell_type": "code",
      "source": [
        "instance = dataset[0]\n",
        "\n",
        "print(instance.keys())"
      ],
      "metadata": {
        "colab": {
          "base_uri": "https://localhost:8080/"
        },
        "id": "fIvfOpqNCuqU",
        "outputId": "5a4d0c28-ae29-497e-a75d-1e3a6aa8df32"
      },
      "execution_count": 5,
      "outputs": [
        {
          "output_type": "stream",
          "name": "stdout",
          "text": [
            "dict_keys(['title', 'text', 'url', 'tokenized_text'])\n"
          ]
        }
      ]
    },
    {
      "cell_type": "code",
      "source": [
        "length_of_documents = [len(doc.get('tokenized_text')) for doc in dataset]\n",
        "\n",
        "from matplotlib import pyplot as plt\n",
        "\n",
        "plt.plot(length_of_documents)\n",
        "plt.show()"
      ],
      "metadata": {
        "colab": {
          "base_uri": "https://localhost:8080/",
          "height": 265
        },
        "id": "88VrGjeWPpBV",
        "outputId": "ae52bb9a-44e9-43fd-c7b3-8e9c6dffd72d"
      },
      "execution_count": 11,
      "outputs": [
        {
          "output_type": "display_data",
          "data": {
            "text/plain": [
              "<Figure size 432x288 with 1 Axes>"
            ],
            "image/png": "[encoded data removed]"
          },
          "metadata": {
            "needs_background": "light"
          }
        }
      ]
    },
    {
      "cell_type": "markdown",
      "source": [
        "<h1>Calculating the Tf-IDF!</h1>"
      ],
      "metadata": {
        "id": "aEF8rVOtwR-B"
      }
    },
    {
      "cell_type": "code",
      "source": [
        "from typing import List\n",
        "from copy import copy\n",
        "from collections import Counter, OrderedDict\n",
        "\n",
        "class Corpus:\n",
        "\n",
        "  def __init__(self, vocabulary) -> None:\n",
        "      self._vocabulary = vocabulary\n",
        "      self._lexicon = self._get_lexicon()\n",
        "      self._document_matrix = np.zeros((self.documents_len, self.lexicon_len))\n",
        "      self._tf_idf_matrix = copy(self._document_matrix)\n",
        "      self._vectorize_document()\n",
        "      self._transform_documents()\n",
        "\n",
        "  def _vectorize_document(self):\n",
        "    for doc_i, doc in enumerate(self._vocabulary):\n",
        "      for term in doc:\n",
        "        feture_i = self._lexicon.index(term)\n",
        "        self._document_matrix[doc_i][feture_i] += 1\n",
        "\n",
        "  def _transform_documents(self):\n",
        "    for doc_i in range(len(self._tf_idf_matrix)):\n",
        "      for term_i in range(len(self._tf_idf_matrix[doc_i])):\n",
        "        tf = self.get_tf(doc_i, term_i)\n",
        "        idf = self.get_idf(term_i)\n",
        "        self._tf_idf_matrix[doc_i][term_i] = tf * idf\n",
        "\n",
        "  def _get_lexicon(self):\n",
        "    lexicon = set()\n",
        "    for doc in self._vocabulary:\n",
        "      for token in doc:\n",
        "        lexicon.add(token)\n",
        "    lexicon = list(lexicon)\n",
        "    return sorted(lexicon)\n",
        "\n",
        "  def get_tf(self, doc_index, term_index):\n",
        "    tf = self._document_matrix[doc_index][term_index]\n",
        "    term_document_count = np.sum(self._document_matrix[doc_index])\n",
        "    tf = tf / term_document_count\n",
        "    return tf\n",
        "\n",
        "  def get_idf(self, term_index):\n",
        "    nuber_of_documents_with_t = self.term_document_count(term_index)\n",
        "    idf = self.documents_len / nuber_of_documents_with_t\n",
        "    idf = np.log(idf)\n",
        "    return idf\n",
        "\n",
        "  def term_document_count(self, term_index):\n",
        "    term_column = self._document_matrix[:, term_index]\n",
        "    term_column = [int(x > 0) for x in term_column]\n",
        "    return np.sum(term_column)\n",
        "\n",
        "  def get_term_index(self, term):\n",
        "    try:\n",
        "      index = self._lexicon.index(term)\n",
        "      return index\n",
        "    except ValueError:\n",
        "      return -1\n",
        "\n",
        "  def get_index_term(self, index):\n",
        "    return self._lexicon[index]\n",
        "\n",
        "  @property\n",
        "  def documents_len(self):\n",
        "    return len(self._vocabulary)\n",
        "\n",
        "  @property\n",
        "  def lexicon_len(self):\n",
        "    return len(self._lexicon)\n",
        "\n",
        "  def get_feature_names_out(self):\n",
        "    return self._lexicon\n",
        "\n",
        "  def vector_to_dict(self, vec):\n",
        "    if len(vec) != len(self._tf_idf_matrix[0]):\n",
        "      raise ValueError('Input vector does not belong to this class.')\n",
        "    return OrderedDict((self._lexicon[i], x) for i, x in enumerate(vec))\n",
        "\n",
        "  @property\n",
        "  def tfidf_matrix(self):\n",
        "    return self._tf_idf_matrix\n",
        "\n",
        "  def __len__(self):\n",
        "    return self.documents_len\n",
        "\n",
        "  def __iter__(self):\n",
        "    return self.tfidf_matrix.__iter__()"
      ],
      "metadata": {
        "id": "qyLv3YTOM3mw"
      },
      "execution_count": 91,
      "outputs": []
    },
    {
      "cell_type": "code",
      "source": [
        "l = [doc['tokenized_text'] for doc in dataset]\n",
        "\n",
        "a = Corpus(l)"
      ],
      "metadata": {
        "id": "cSCLy0gClirv"
      },
      "execution_count": 95,
      "outputs": []
    },
    {
      "cell_type": "code",
      "source": [
        "from spacy.tokens.token import Token\n",
        "\n",
        "def is_stop_word(token: Token):\n",
        "  return token.is_stop\n",
        "\n",
        "def is_punc_or_sym(token: Token):\n",
        "  part_of_speach = token.pos_\n",
        "  return (part_of_speach == 'PUNCT' or \n",
        "          part_of_speach == 'SYM')\n",
        "  \n",
        "def is_punc_or_sym_or_stop(token: Token):\n",
        "  return is_stop_word(token) or is_punc_or_sym(token)\n",
        "\n",
        "def tokenize_text(input_string: str):\n",
        "  spacy_doc = nlp(input_string)\n",
        "  transformed = [token.lemma_ for token in spacy_doc \n",
        "                 if not is_punc_or_sym_or_stop(token)]\n",
        "  transformed = [lemma.lower() for lemma in transformed]\n",
        "  return transformed"
      ],
      "metadata": {
        "id": "DV_ridC2RW8T"
      },
      "execution_count": 25,
      "outputs": []
    },
    {
      "cell_type": "code",
      "source": [
        "import math\n",
        "\n",
        "\"\"\"\n",
        "Author: Natural Language Processing in Action: Understanding, analyzing, \n",
        "  and generating text with Python | Hobson Lane,Cole Howard,Hannes Hapke\n",
        "\"\"\"\n",
        "\n",
        "def cosine_sim(vec1, vec2):\n",
        "     \"\"\" Let's convert our dictionaries to lists for easier matching.\"\"\"\n",
        "    #  vec1 = [val for val in vec1.values()]\n",
        "    #  vec2 = [val for val in vec2.values()]\n",
        "\n",
        "     dot_prod = 0\n",
        "     for i, v in enumerate(vec1):\n",
        "         dot_prod += v * vec2[i]\n",
        "\n",
        "     mag_1 = math.sqrt(sum([x**2 for x in vec1]))\n",
        "     mag_2 = math.sqrt(sum([x**2 for x in vec2]))\n",
        "\n",
        "     return dot_prod / (mag_1 * mag_2)"
      ],
      "metadata": {
        "id": "-5brpMuQxvdQ"
      },
      "execution_count": 96,
      "outputs": []
    },
    {
      "cell_type": "code",
      "source": [
        "class Query:\n",
        "\n",
        "  def __init__(self, query, corpus: Corpus):\n",
        "    self._query = tokenize_text(query)\n",
        "    self._corpus = corpus\n",
        "    self._tf_idf = self._tf_idf()\n",
        "\n",
        "  def _vectorize_query(self):\n",
        "    vec = np.zeros(self._corpus.lexicon_len)\n",
        "    for token in self._query:\n",
        "      token_index = self._corpus.get_term_index(token)\n",
        "      if token_index < 0:\n",
        "        continue  # out of vocabulary\n",
        "      vec[token_index] += 1\n",
        "    return vec\n",
        "\n",
        "  def _tf_idf(self):\n",
        "    count_vector = self._vectorize_query()\n",
        "\n",
        "    tf_vector = copy(count_vector)\n",
        "    for i in range(len(count_vector)):\n",
        "      tf = count_vector[i]\n",
        "      term_document_count = np.sum(count_vector)\n",
        "      tf = tf / term_document_count\n",
        "      tf_vector[i] = tf\n",
        "\n",
        "    idf_vector = copy(count_vector)\n",
        "    for i in range(len(count_vector)):\n",
        "      nuber_of_documents_with_t = self._corpus.term_document_count(i)\n",
        "      idf = self._corpus.documents_len / nuber_of_documents_with_t\n",
        "      idf = np.log(idf)\n",
        "      idf_vector[i] = idf\n",
        "\n",
        "    return tf_vector * idf_vector\n",
        "\n",
        "  @property\n",
        "  def tf_idf(self):\n",
        "    return self._tf_idf\n",
        "\n",
        "  @property\n",
        "  def dict_tf_idf(self):\n",
        "    dict_tf_idf = self._corpus.vector_to_dict(self.tf_idf)\n",
        "    return {k: v for k, v in dict_tf_idf.items() if v > 0}\n",
        "\n",
        "  def search_result(self):\n",
        "    result = list()\n",
        "    for i, doc in enumerate(self._corpus):\n",
        "      score = cosine_sim(doc, self.tf_idf)\n",
        "      title = dataset[i]['title']\n",
        "      link = dataset[i]['url']\n",
        "      result.append(dict(title=title, score=score, link=link))\n",
        "    return sorted(result, key=lambda x: x['score'], reverse=True)"
      ],
      "metadata": {
        "id": "qifhY--6Q61M"
      },
      "execution_count": 118,
      "outputs": []
    },
    {
      "cell_type": "code",
      "source": [
        "query = Query('When did the spanish flu happen', a)\n",
        "query.search_result()[:5]"
      ],
      "metadata": {
        "colab": {
          "base_uri": "https://localhost:8080/"
        },
        "id": "PtUB6AJpSh3L",
        "outputId": "d98cbc0e-81ec-41e2-d67f-934bbead66c1"
      },
      "execution_count": 120,
      "outputs": [
        {
          "output_type": "execute_result",
          "data": {
            "text/plain": [
              "[{'link': 'https://en.wikipedia.org/wiki/Spanish_flu',\n",
              "  'score': 0.32722431725410606,\n",
              "  'title': 'Spanish flu'},\n",
              " {'link': 'https://en.wikipedia.org/wiki/Swine_influenza',\n",
              "  'score': 0.27806276291630766,\n",
              "  'title': 'Swine influenza'},\n",
              " {'link': 'https://en.wikipedia.org/wiki/Pandemic',\n",
              "  'score': 0.1262668890689719,\n",
              "  'title': 'Pandemic'},\n",
              " {'link': 'https://en.wikipedia.org/wiki/Unified_Victim_Identification_System',\n",
              "  'score': 0.024451792853454935,\n",
              "  'title': 'Unified Victim Identification System'},\n",
              " {'link': 'https://en.wikipedia.org/wiki/Epidemiology_of_HIV/AIDS',\n",
              "  'score': 0.0,\n",
              "  'title': 'Epidemiology of HIV/AIDS'}]"
            ]
          },
          "metadata": {},
          "execution_count": 120
        }
      ]
    },
    {
      "cell_type": "markdown",
      "source": [
        "<h1>Adding the TF-IDF vectors to our dataset!</h1>"
      ],
      "metadata": {
        "id": "VsBV8pWNww6F"
      }
    },
    {
      "cell_type": "code",
      "source": [
        "new_dataset = copy(dataset)\n",
        "\n",
        "for i, doc in enumerate(a):\n",
        "  new_dataset[i].update({'tf_idf': doc.tolist()})"
      ],
      "metadata": {
        "id": "HUMpvOmLwulc"
      },
      "execution_count": 122,
      "outputs": []
    },
    {
      "cell_type": "code",
      "source": [
        "{k:v for k, v in a.vector_to_dict(new_dataset[0]['tf_idf']).items() if v > 0}"
      ],
      "metadata": {
        "colab": {
          "base_uri": "https://localhost:8080/"
        },
        "id": "MpL-FLoCxHBs",
        "outputId": "f123a8f5-f7f8-404f-828f-fb5a8e25f205"
      },
      "execution_count": 128,
      "outputs": [
        {
          "output_type": "execute_result",
          "data": {
            "text/plain": [
              "{'\\n': 0.004828218113241659,\n",
              " '14th': 0.037023824295698664,\n",
              " '1918': 0.029147151789335645,\n",
              " '75–200': 0.037023824295698664,\n",
              " 'affect': 0.014911208965524645,\n",
              " 'aids': 0.016662921236288944,\n",
              " 'black': 0.037023824295698664,\n",
              " 'century': 0.01873475710894752,\n",
              " 'continent': 0.037023824295698664,\n",
              " 'cov-2': 0.024539593742651956,\n",
              " 'covid-19': 0.016662921236288944,\n",
              " 'current': 0.029147151789335645,\n",
              " 'death': 0.00977501437753536,\n",
              " 'demo': 0.037023824295698664,\n",
              " 'disease': 0.0220685370809864,\n",
              " 'endemic': 0.04907918748530391,\n",
              " 'epidemic': 0.010858084602584504,\n",
              " 'estimate': 0.010858084602584504,\n",
              " 'exclude': 0.037023824295698664,\n",
              " 'fatal': 0.037023824295698664,\n",
              " 'flu': 0.02127047928297263,\n",
              " 'generally': 0.024539593742651956,\n",
              " 'globe': 0.037023824295698664,\n",
              " 'greek': 0.037023824295698664,\n",
              " 'history': 0.04254095856594526,\n",
              " 'hiv': 0.016662921236288944,\n",
              " 'human': 0.00977501437753536,\n",
              " 'include': 0.01575334501272603,\n",
              " 'infected': 0.03332584247257789,\n",
              " 'infectious': 0.016662921236288944,\n",
              " 'influenza': 0.021716169205169007,\n",
              " 'instance': 0.037023824295698664,\n",
              " 'kill': 0.02127047928297263,\n",
              " 'know': 0.010858084602584504,\n",
              " 'large': 0.02982241793104929,\n",
              " 'later': 0.024539593742651956,\n",
              " 'million': 0.010858084602584504,\n",
              " 'multiple': 0.024539593742651956,\n",
              " 'number': 0.08508191713189052,\n",
              " 'occur': 0.02127047928297263,\n",
              " 'pan': 0.037023824295698664,\n",
              " 'pandemic': 0.03379752679269161,\n",
              " 'people': 0.04887507188767679,\n",
              " 'plague': 0.024539593742651956,\n",
              " 'recorded': 0.037023824295698664,\n",
              " 'recurrence': 0.037023824295698664,\n",
              " 'region': 0.05829430357867129,\n",
              " 'sars': 0.02127047928297263,\n",
              " 'seasonal': 0.037023824295698664,\n",
              " 'simultaneously': 0.037023824295698664,\n",
              " 'smallpox': 0.024539593742651956,\n",
              " 'spanish': 0.024539593742651956,\n",
              " 'spread': 0.01955002875507072,\n",
              " 'stable': 0.05829430357867129,\n",
              " 'substantial': 0.037023824295698664,\n",
              " 'term': 0.024539593742651956,\n",
              " 'tuberculosis': 0.024539593742651956,\n",
              " 'widespread': 0.05829430357867129,\n",
              " 'worldwide': 0.03746951421789504,\n",
              " 'δῆμος': 0.037023824295698664,\n",
              " 'πᾶν': 0.037023824295698664}"
            ]
          },
          "metadata": {},
          "execution_count": 128
        }
      ]
    },
    {
      "cell_type": "markdown",
      "source": [
        "<h1>Saving the transfomred dataset</h1>"
      ],
      "metadata": {
        "id": "AveB_QyA2AbY"
      }
    },
    {
      "cell_type": "code",
      "source": [
        "import json\n",
        "\n",
        "json_datset = json.dumps(new_dataset)\n",
        "\n",
        "with open('tf_idf_dataset.json', 'w') as f:\n",
        "  f.write(json_datset)"
      ],
      "metadata": {
        "id": "PIC1OMj52Gsk"
      },
      "execution_count": 129,
      "outputs": []
    }
  ]
}